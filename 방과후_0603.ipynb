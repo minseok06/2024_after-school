{
 "cells": [
  {
   "cell_type": "code",
   "execution_count": 1,
   "id": "b96bcb8e",
   "metadata": {},
   "outputs": [
    {
     "data": {
      "text/html": [
       "<div>\n",
       "<style scoped>\n",
       "    .dataframe tbody tr th:only-of-type {\n",
       "        vertical-align: middle;\n",
       "    }\n",
       "\n",
       "    .dataframe tbody tr th {\n",
       "        vertical-align: top;\n",
       "    }\n",
       "\n",
       "    .dataframe thead th {\n",
       "        text-align: right;\n",
       "    }\n",
       "</style>\n",
       "<table border=\"1\" class=\"dataframe\">\n",
       "  <thead>\n",
       "    <tr style=\"text-align: right;\">\n",
       "      <th></th>\n",
       "      <th>Name</th>\n",
       "      <th>Age</th>\n",
       "      <th>Score</th>\n",
       "    </tr>\n",
       "  </thead>\n",
       "  <tbody>\n",
       "    <tr>\n",
       "      <th>0</th>\n",
       "      <td>Alice</td>\n",
       "      <td>25</td>\n",
       "      <td>85</td>\n",
       "    </tr>\n",
       "    <tr>\n",
       "      <th>1</th>\n",
       "      <td>Bob</td>\n",
       "      <td>30</td>\n",
       "      <td>90</td>\n",
       "    </tr>\n",
       "    <tr>\n",
       "      <th>2</th>\n",
       "      <td>Charlie</td>\n",
       "      <td>35</td>\n",
       "      <td>95</td>\n",
       "    </tr>\n",
       "    <tr>\n",
       "      <th>3</th>\n",
       "      <td>Davied</td>\n",
       "      <td>40</td>\n",
       "      <td>80</td>\n",
       "    </tr>\n",
       "    <tr>\n",
       "      <th>4</th>\n",
       "      <td>Eva</td>\n",
       "      <td>45</td>\n",
       "      <td>70</td>\n",
       "    </tr>\n",
       "  </tbody>\n",
       "</table>\n",
       "</div>"
      ],
      "text/plain": [
       "      Name  Age  Score\n",
       "0    Alice   25     85\n",
       "1      Bob   30     90\n",
       "2  Charlie   35     95\n",
       "3   Davied   40     80\n",
       "4      Eva   45     70"
      ]
     },
     "execution_count": 1,
     "metadata": {},
     "output_type": "execute_result"
    }
   ],
   "source": [
    "# 라이브러리 불러오기\n",
    "import pandas as pd\n",
    "\n",
    "# 데이터 지정\n",
    "data = {'Name':['Alice','Bob','Charlie','Davied','Eva'], 'Age':[25,30,35,40,45], 'Score':[85,90,95,80,70]}\n",
    "# 데이터 프레임 변환\n",
    "df = pd.DataFrame(data)\n",
    "# 출력\n",
    "df"
   ]
  },
  {
   "cell_type": "markdown",
   "id": "e19477ed",
   "metadata": {},
   "source": [
    "# Age, Score의 평균, 중앙값, 최소값, 최대값, 표준편차를 구하시오."
   ]
  },
  {
   "cell_type": "code",
   "execution_count": 2,
   "id": "1972e0aa",
   "metadata": {},
   "outputs": [
    {
     "data": {
      "text/html": [
       "<div>\n",
       "<style scoped>\n",
       "    .dataframe tbody tr th:only-of-type {\n",
       "        vertical-align: middle;\n",
       "    }\n",
       "\n",
       "    .dataframe tbody tr th {\n",
       "        vertical-align: top;\n",
       "    }\n",
       "\n",
       "    .dataframe thead th {\n",
       "        text-align: right;\n",
       "    }\n",
       "</style>\n",
       "<table border=\"1\" class=\"dataframe\">\n",
       "  <thead>\n",
       "    <tr style=\"text-align: right;\">\n",
       "      <th></th>\n",
       "      <th>Age</th>\n",
       "      <th>Score</th>\n",
       "    </tr>\n",
       "  </thead>\n",
       "  <tbody>\n",
       "    <tr>\n",
       "      <th>median</th>\n",
       "      <td>35.000000</td>\n",
       "      <td>85.000000</td>\n",
       "    </tr>\n",
       "    <tr>\n",
       "      <th>min</th>\n",
       "      <td>25.000000</td>\n",
       "      <td>70.000000</td>\n",
       "    </tr>\n",
       "    <tr>\n",
       "      <th>mean</th>\n",
       "      <td>35.000000</td>\n",
       "      <td>84.000000</td>\n",
       "    </tr>\n",
       "    <tr>\n",
       "      <th>std</th>\n",
       "      <td>7.905694</td>\n",
       "      <td>9.617692</td>\n",
       "    </tr>\n",
       "    <tr>\n",
       "      <th>max</th>\n",
       "      <td>45.000000</td>\n",
       "      <td>95.000000</td>\n",
       "    </tr>\n",
       "  </tbody>\n",
       "</table>\n",
       "</div>"
      ],
      "text/plain": [
       "              Age      Score\n",
       "median  35.000000  85.000000\n",
       "min     25.000000  70.000000\n",
       "mean    35.000000  84.000000\n",
       "std      7.905694   9.617692\n",
       "max     45.000000  95.000000"
      ]
     },
     "execution_count": 2,
     "metadata": {},
     "output_type": "execute_result"
    }
   ],
   "source": [
    "# 라이브러리 불러오기\n",
    "import pandas as pd\n",
    "\n",
    "# 데이터 지정\n",
    "data = {'Name':['Alice','Bob','Charlie','Davied','Eva'], 'Age':[25,30,35,40,45], 'Score':[85,90,95,80,70]}\n",
    "# 데이터 프레임 변환\n",
    "df = pd.DataFrame(data)\n",
    "\n",
    "df[['Age','Score']].agg({'mean','median','min','max','std'})"
   ]
  },
  {
   "cell_type": "markdown",
   "id": "0e369a8c",
   "metadata": {},
   "source": [
    "# 한번에 구하는 법"
   ]
  },
  {
   "cell_type": "code",
   "execution_count": 10,
   "id": "395bf9f8",
   "metadata": {},
   "outputs": [
    {
     "data": {
      "text/html": [
       "<div>\n",
       "<style scoped>\n",
       "    .dataframe tbody tr th:only-of-type {\n",
       "        vertical-align: middle;\n",
       "    }\n",
       "\n",
       "    .dataframe tbody tr th {\n",
       "        vertical-align: top;\n",
       "    }\n",
       "\n",
       "    .dataframe thead th {\n",
       "        text-align: right;\n",
       "    }\n",
       "</style>\n",
       "<table border=\"1\" class=\"dataframe\">\n",
       "  <thead>\n",
       "    <tr style=\"text-align: right;\">\n",
       "      <th></th>\n",
       "      <th>Age</th>\n",
       "      <th>Score</th>\n",
       "    </tr>\n",
       "  </thead>\n",
       "  <tbody>\n",
       "    <tr>\n",
       "      <th>count</th>\n",
       "      <td>5.0</td>\n",
       "      <td>5.000000</td>\n",
       "    </tr>\n",
       "    <tr>\n",
       "      <th>mean</th>\n",
       "      <td>25.0</td>\n",
       "      <td>84.000000</td>\n",
       "    </tr>\n",
       "    <tr>\n",
       "      <th>std</th>\n",
       "      <td>0.0</td>\n",
       "      <td>9.617692</td>\n",
       "    </tr>\n",
       "    <tr>\n",
       "      <th>min</th>\n",
       "      <td>25.0</td>\n",
       "      <td>70.000000</td>\n",
       "    </tr>\n",
       "    <tr>\n",
       "      <th>25%</th>\n",
       "      <td>25.0</td>\n",
       "      <td>80.000000</td>\n",
       "    </tr>\n",
       "    <tr>\n",
       "      <th>50%</th>\n",
       "      <td>25.0</td>\n",
       "      <td>85.000000</td>\n",
       "    </tr>\n",
       "    <tr>\n",
       "      <th>75%</th>\n",
       "      <td>25.0</td>\n",
       "      <td>90.000000</td>\n",
       "    </tr>\n",
       "    <tr>\n",
       "      <th>max</th>\n",
       "      <td>25.0</td>\n",
       "      <td>95.000000</td>\n",
       "    </tr>\n",
       "  </tbody>\n",
       "</table>\n",
       "</div>"
      ],
      "text/plain": [
       "        Age      Score\n",
       "count   5.0   5.000000\n",
       "mean   25.0  84.000000\n",
       "std     0.0   9.617692\n",
       "min    25.0  70.000000\n",
       "25%    25.0  80.000000\n",
       "50%    25.0  85.000000\n",
       "75%    25.0  90.000000\n",
       "max    25.0  95.000000"
      ]
     },
     "execution_count": 10,
     "metadata": {},
     "output_type": "execute_result"
    }
   ],
   "source": [
    "# 라이브러리 불러오기\n",
    "import pandas as pd\n",
    "\n",
    "# 데이터 지정\n",
    "data = {'Name':['Alice','Bob','Charlie','Davied','Eva'], 'Age':[25,25,25,25,25], 'Score':[85,90,95,80,70]}\n",
    "# 데이터 프레임 변환\n",
    "df = pd.DataFrame(data)\n",
    "\n",
    "df.describe()"
   ]
  },
  {
   "cell_type": "markdown",
   "id": "6bfef6c0",
   "metadata": {},
   "source": [
    "# 그룹바이 활용하기"
   ]
  },
  {
   "cell_type": "code",
   "execution_count": 75,
   "id": "a3ba82d8",
   "metadata": {},
   "outputs": [
    {
     "data": {
      "text/html": [
       "<div>\n",
       "<style scoped>\n",
       "    .dataframe tbody tr th:only-of-type {\n",
       "        vertical-align: middle;\n",
       "    }\n",
       "\n",
       "    .dataframe tbody tr th {\n",
       "        vertical-align: top;\n",
       "    }\n",
       "\n",
       "    .dataframe thead th {\n",
       "        text-align: right;\n",
       "    }\n",
       "</style>\n",
       "<table border=\"1\" class=\"dataframe\">\n",
       "  <thead>\n",
       "    <tr style=\"text-align: right;\">\n",
       "      <th></th>\n",
       "      <th>Age</th>\n",
       "      <th>Score</th>\n",
       "    </tr>\n",
       "    <tr>\n",
       "      <th>Name</th>\n",
       "      <th></th>\n",
       "      <th></th>\n",
       "    </tr>\n",
       "  </thead>\n",
       "  <tbody>\n",
       "    <tr>\n",
       "      <th>Alice</th>\n",
       "      <td>25.0</td>\n",
       "      <td>84.0</td>\n",
       "    </tr>\n",
       "    <tr>\n",
       "      <th>Bob</th>\n",
       "      <td>25.0</td>\n",
       "      <td>90.0</td>\n",
       "    </tr>\n",
       "    <tr>\n",
       "      <th>Charlie</th>\n",
       "      <td>25.0</td>\n",
       "      <td>95.0</td>\n",
       "    </tr>\n",
       "    <tr>\n",
       "      <th>Davied</th>\n",
       "      <td>25.0</td>\n",
       "      <td>80.0</td>\n",
       "    </tr>\n",
       "    <tr>\n",
       "      <th>Eva</th>\n",
       "      <td>25.0</td>\n",
       "      <td>70.0</td>\n",
       "    </tr>\n",
       "  </tbody>\n",
       "</table>\n",
       "</div>"
      ],
      "text/plain": [
       "          Age  Score\n",
       "Name                \n",
       "Alice    25.0   84.0\n",
       "Bob      25.0   90.0\n",
       "Charlie  25.0   95.0\n",
       "Davied   25.0   80.0\n",
       "Eva      25.0   70.0"
      ]
     },
     "execution_count": 75,
     "metadata": {},
     "output_type": "execute_result"
    }
   ],
   "source": [
    "# 라이브러리 불러오기\n",
    "import pandas as pd\n",
    "\n",
    "# 데이터 지정\n",
    "data = {'Name':['Alice','Alice','Bob','Charlie','Davied','Eva'], 'Age':[25,25,25,25,25,25], 'Score':[83,85,90,95,80,70]}\n",
    "# 데이터 프레임 변환\n",
    "df = pd.DataFrame(data)\n",
    "\n",
    "df.groupby('Name').mean()"
   ]
  },
  {
   "cell_type": "markdown",
   "id": "6963bc31",
   "metadata": {},
   "source": [
    "# 데이터 시각화 그래프 그리기"
   ]
  },
  {
   "cell_type": "code",
   "execution_count": 76,
   "id": "2c8313d6",
   "metadata": {
    "scrolled": false
   },
   "outputs": [
    {
     "data": {
      "image/png": "[encoded data removed]",
      "text/plain": [
       "<Figure size 640x480 with 1 Axes>"
      ]
     },
     "metadata": {},
     "output_type": "display_data"
    }
   ],
   "source": [
    "import pandas as pd\n",
    "import matplotlib.pyplot as plt\n",
    "import seaborn as sns\n",
    "\n",
    "# 데이터 지정\n",
    "data = {'Name':['Alice','Alice','Bob','Charlie','Davied','Eva'], 'Age':[25,25,25,25,25,25], 'Score':[83,85,90,95,80,70]}\n",
    "# 데이터 프레임 변환\n",
    "df = pd.DataFrame(data)\n",
    "\n",
    "df.plot(kind='bar', x='Name', y='Score')\n",
    "\n",
    "plt.title('Scores by Name')\n",
    "plt.xlabel('Name')\n",
    "plt.ylabel('Score')\n",
    "plt.legend()\n",
    "\n",
    "plt.show()"
   ]
  },
  {
   "cell_type": "markdown",
   "id": "68ea7694",
   "metadata": {},
   "source": [
    "# 순서대로 정렬하기"
   ]
  },
  {
   "cell_type": "code",
   "execution_count": 85,
   "id": "32f95980",
   "metadata": {
    "scrolled": false
   },
   "outputs": [
    {
     "data": {
      "image/png": "[encoded data removed]",
      "text/plain": [
       "<Figure size 640x480 with 1 Axes>"
      ]
     },
     "metadata": {},
     "output_type": "display_data"
    }
   ],
   "source": [
    "import pandas as pd\n",
    "import matplotlib.pyplot as plt\n",
    "import seaborn as sns\n",
    "\n",
    "# 데이터 지정\n",
    "data = {'Name':['Alice','Alice','Bob','Charlie','Davied','Eva'], 'Age':[25,25,25,25,25,25], 'Score':[83,85,90,95,80,70]}\n",
    "# 데이터 프레임 변환\n",
    "df = pd.DataFrame(data)\n",
    "\n",
    "df.sort_values('Score').plot(kind='bar', x='Name', y='Score')\n",
    "\n",
    "plt.title('Scores by Name')\n",
    "plt.xlabel('Name')\n",
    "plt.ylabel('Score')\n",
    "plt.legend()\n",
    "\n",
    "plt.show()"
   ]
  },
  {
   "cell_type": "code",
   "execution_count": 111,
   "id": "bf37dcad",
   "metadata": {},
   "outputs": [
    {
     "name": "stdout",
     "output_type": "stream",
     "text": [
      "\n",
      "DataFrame sorted by Score (descending):\n",
      "      Name  Age  Score\n",
      "5      Eva   25     70\n",
      "4   Davied   25     80\n",
      "0    Alice   25     83\n",
      "1    Alice   25     85\n",
      "2      Bob   25     90\n",
      "3  Charlie   25     95\n",
      "\n",
      "New DataFrame:\n",
      "      Name  Age  Score\n",
      "0      Eva   25     70\n",
      "1   Davied   25     80\n",
      "2    Alice   25     83\n",
      "3    Alice   25     85\n",
      "4      Bob   25     90\n",
      "5  Charlie   25     95\n"
     ]
    }
   ],
   "source": [
    "# Score 칼럼을 기준으로 내림차순 정렬\n",
    "df_sorted = df.sort_values(by='Score', ascending=True)\n",
    "print('\\nDataFrame sorted by Score (descending):')\n",
    "print(df_sorted)\n",
    "\n",
    "# 새로운 데이터 프레임 생성\n",
    "new_df = df_sorted.reset_index(drop=True)\n",
    "print('\\nNew DataFrame:')\n",
    "print(new_df)"
   ]
  },
  {
   "cell_type": "markdown",
   "id": "0ed150eb",
   "metadata": {},
   "source": [
    "# 수고했어 오늘도"
   ]
  }
 ],
 "metadata": {
  "kernelspec": {
   "display_name": "Python 3 (ipykernel)",
   "language": "python",
   "name": "python3"
  },
  "language_info": {
   "codemirror_mode": {
    "name": "ipython",
    "version": 3
   },
   "file_extension": ".py",
   "mimetype": "text/x-python",
   "name": "python",
   "nbconvert_exporter": "python",
   "pygments_lexer": "ipython3",
   "version": "3.10.9"
  }
 },
 "nbformat": 4,
 "nbformat_minor": 5
}
