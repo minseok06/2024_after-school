{
 "cells": [
  {
   "cell_type": "markdown",
   "id": "8997e643",
   "metadata": {},
   "source": [
    "# 대칭 판독기"
   ]
  },
  {
   "cell_type": "code",
   "execution_count": 37,
   "id": "3c92e4be",
   "metadata": {},
   "outputs": [
    {
     "name": "stdout",
     "output_type": "stream",
     "text": [
      "같다\n",
      "같다\n",
      "같다\n",
      "같다\n",
      "같다\n"
     ]
    }
   ],
   "source": [
    "a = 'level'\n",
    "\n",
    "for i in range(len(a)):\n",
    "    if a[i] == a[len(a)-1-i]:\n",
    "        print('같다')\n",
    "    else:\n",
    "        print('다르다')"
   ]
  },
  {
   "cell_type": "code",
   "execution_count": 45,
   "id": "9b45e85f",
   "metadata": {},
   "outputs": [
    {
     "name": "stdout",
     "output_type": "stream",
     "text": [
      "단어를 입력하세요: level\n",
      "True\n"
     ]
    }
   ],
   "source": [
    "word = input('단어를 입력하세요: ')\n",
    "if word == word[::-1]:\n",
    "    print('True')\n",
    "else:\n",
    "    print('False')"
   ]
  },
  {
   "cell_type": "code",
   "execution_count": 46,
   "id": "33f4ccff",
   "metadata": {},
   "outputs": [
    {
     "name": "stdout",
     "output_type": "stream",
     "text": [
      "False\n"
     ]
    }
   ],
   "source": [
    "word = 'hello'\n",
    "\n",
    "if(list(word) == list(reversed(word))):\n",
    "    print('True')\n",
    "else:\n",
    "    print('False')"
   ]
  },
  {
   "cell_type": "markdown",
   "id": "de37baf2",
   "metadata": {},
   "source": [
    "# 짝수 출력하기"
   ]
  },
  {
   "cell_type": "code",
   "execution_count": 60,
   "id": "f724b7a1",
   "metadata": {
    "scrolled": true
   },
   "outputs": [
    {
     "name": "stdout",
     "output_type": "stream",
     "text": [
      "2\n",
      "4\n",
      "6\n",
      "8\n",
      "10\n",
      "12\n",
      "14\n",
      "16\n",
      "18\n",
      "20\n",
      "22\n",
      "24\n",
      "26\n",
      "28\n",
      "30\n",
      "32\n",
      "34\n",
      "36\n",
      "38\n",
      "40\n",
      "42\n",
      "44\n",
      "46\n",
      "48\n",
      "50\n",
      "52\n",
      "54\n",
      "56\n",
      "58\n",
      "60\n",
      "62\n",
      "64\n",
      "66\n",
      "68\n",
      "70\n",
      "72\n",
      "74\n",
      "76\n",
      "78\n",
      "80\n",
      "82\n",
      "84\n",
      "86\n",
      "88\n",
      "90\n",
      "92\n",
      "94\n",
      "96\n",
      "98\n",
      "100\n"
     ]
    }
   ],
   "source": [
    "for i in range(1, 101):\n",
    "    if i % 2==0:\n",
    "        print(i)"
   ]
  },
  {
   "cell_type": "code",
   "execution_count": 80,
   "id": "95e10c7d",
   "metadata": {
    "scrolled": false
   },
   "outputs": [
    {
     "name": "stdout",
     "output_type": "stream",
     "text": [
      "시작과 끝을 입력하세요2 8\n",
      "2\n",
      "4\n",
      "6\n",
      "8\n"
     ]
    }
   ],
   "source": [
    "a, b = map(int, input('시작과 끝을 입력하세요').split())\n",
    "for i in range(a, b+1):\n",
    "    if i % 2==0:\n",
    "        print(i)"
   ]
  },
  {
   "cell_type": "markdown",
   "id": "2054474c",
   "metadata": {},
   "source": [
    "# 수고했어 오늘도"
   ]
  }
 ],
 "metadata": {
  "kernelspec": {
   "display_name": "Python 3 (ipykernel)",
   "language": "python",
   "name": "python3"
  },
  "language_info": {
   "codemirror_mode": {
    "name": "ipython",
    "version": 3
   },
   "file_extension": ".py",
   "mimetype": "text/x-python",
   "name": "python",
   "nbconvert_exporter": "python",
   "pygments_lexer": "ipython3",
   "version": "3.10.9"
  }
 },
 "nbformat": 4,
 "nbformat_minor": 5
}
